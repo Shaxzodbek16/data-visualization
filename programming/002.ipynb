{
 "nbformat": 4,
 "nbformat_minor": 0,
 "metadata": {
  "colab": {
   "provenance": []
  },
  "kernelspec": {
   "name": "python3",
   "display_name": "Python 3 (ipykernel)",
   "language": "python"
  },
  "language_info": {
   "name": "python"
  }
 },
 "cells": [
  {
   "cell_type": "markdown",
   "source": [
    "**1 Повтор строки**\n",
    "\n",
    "Дано предложение и количество раз, сколько его надо повторить. Напишите программу, которая повторяет данное предложение нужное количество раз.\n",
    "\n",
    "**Формат входных данных**\n",
    "В первой строке записано текстовое предложение, во второй — количество повторений."
   ],
   "metadata": {
    "id": "XXzP9oLswzcK"
   }
  },
  {
   "cell_type": "code",
   "source": [
    "text = input(\"Enter a text: \")\n",
    "n = int(input(\"Enter a number: \"))\n",
    "for i in range(n):\n",
    "    print(text)"
   ],
   "metadata": {
    "id": "tWdM3siTxCyC",
    "ExecuteTime": {
     "end_time": "2025-01-01T19:26:59.125870Z",
     "start_time": "2025-01-01T19:26:55.702880Z"
    }
   },
   "outputs": [
    {
     "name": "stdout",
     "output_type": "stream",
     "text": [
      "a\n"
     ]
    }
   ],
   "execution_count": 2
  },
  {
   "cell_type": "markdown",
   "source": [
    "**2 Звездный прямоугольник**\n",
    "\n",
    "На вход программе подается натуральное число n. Напишите программу, которая печатает звездный прямоугольник размерами n×8.\n",
    "\n",
    "**Формат входных данных**\n",
    "На вход программе подаётся натуральное число n — высота звездного прямоугольника."
   ],
   "metadata": {
    "id": "6imWcT8eKUIK"
   }
  },
  {
   "cell_type": "code",
   "source": [
    "n = int(input('Enter a number: '))\n",
    "for i in range(n):\n",
    "    print('*' * 8)\n"
   ],
   "metadata": {
    "id": "4oIlyZPjKUIN",
    "ExecuteTime": {
     "end_time": "2025-01-01T19:27:37.606473Z",
     "start_time": "2025-01-01T19:27:35.703220Z"
    }
   },
   "outputs": [
    {
     "name": "stdout",
     "output_type": "stream",
     "text": [
      "********\n",
      "********\n",
      "********\n"
     ]
    }
   ],
   "execution_count": 3
  },
  {
   "cell_type": "markdown",
   "source": [
    "**3 Квадрат числа**\n",
    "\n",
    "На вход программе подаётся натуральное число n. Напишите программу, которая для каждого из чисел от 0 до n (включительно) выводит текст в следующем формате:\n",
    "\n",
    "Квадрат числа <текущее число> равен <квадрат текущего числа>\n",
    "\n",
    "**Формат входных данных**\n",
    "На вход программе подаётся натуральное число n."
   ],
   "metadata": {
    "id": "GOfkpXs1LODt"
   }
  },
  {
   "cell_type": "code",
   "metadata": {
    "id": "f0HOZYvjJHC0",
    "ExecuteTime": {
     "end_time": "2025-01-01T19:28:19.711471Z",
     "start_time": "2025-01-01T19:28:17.446033Z"
    }
   },
   "source": [
    "n = int(input('Enter a number: '))\n",
    "for i in range(n + 1):\n",
    "    print(f'Power of {i} is {i ** 2}')"
   ],
   "outputs": [
    {
     "name": "stdout",
     "output_type": "stream",
     "text": [
      "Power of 0 is 0\n",
      "Power of 1 is 1\n",
      "Power of 2 is 4\n",
      "Power of 3 is 9\n",
      "Power of 4 is 16\n",
      "Power of 5 is 25\n"
     ]
    }
   ],
   "execution_count": 4
  },
  {
   "cell_type": "markdown",
   "source": [
    "**4 Таблица умножения**\n",
    "\n",
    "Дано натуральное число n. Напишите программу, которая выводит таблицу умножения на n (от 1 до 10 включительно).\n",
    "\n",
    "**Формат входных данных**\n",
    "На вход программе подаётся натуральное число n."
   ],
   "metadata": {
    "id": "ozAvFXZdLn6y"
   }
  },
  {
   "cell_type": "code",
   "source": [
    "n = int(input('Enter a number: '))\n",
    "for i in range(1, 11):\n",
    "    print(f'{n} x {i} = {n * i}')"
   ],
   "metadata": {
    "id": "qnHG-ibqMRi5",
    "ExecuteTime": {
     "end_time": "2025-01-01T19:28:44.803606Z",
     "start_time": "2025-01-01T19:28:42.812117Z"
    }
   },
   "outputs": [
    {
     "name": "stdout",
     "output_type": "stream",
     "text": [
      "5 x 1 = 5\n",
      "5 x 2 = 10\n",
      "5 x 3 = 15\n",
      "5 x 4 = 20\n",
      "5 x 5 = 25\n",
      "5 x 6 = 30\n",
      "5 x 7 = 35\n",
      "5 x 8 = 40\n",
      "5 x 9 = 45\n",
      "5 x 10 = 50\n"
     ]
    }
   ],
   "execution_count": 5
  },
  {
   "cell_type": "markdown",
   "source": [
    "**5 Последовательность чисел**\n",
    "\n",
    "Даны два целых числа m и n. Напишите программу, которая выводит все целые числа от m до n включительно в порядке возрастания, если m < n, или в порядке убывания в противном случае. Числа выводятся на 1 строке.\n",
    "\n",
    "**Формат входных данных**:\n",
    "На вход программе подаются два целых числа m и n, каждое на отдельной строке"
   ],
   "metadata": {
    "id": "6rA4cx3yBuK4"
   }
  },
  {
   "cell_type": "code",
   "metadata": {
    "id": "I9Dk-0gnLn61",
    "ExecuteTime": {
     "end_time": "2025-01-01T19:32:49.469287Z",
     "start_time": "2025-01-01T19:32:45.169236Z"
    }
   },
   "source": [
    "num1 = int(input('Enter a first number: '))\n",
    "num2 = int(input('Enter a second number: '))\n",
    "for i in range(num2, num1, -1):\n",
    "    print(i)"
   ],
   "outputs": [
    {
     "name": "stdout",
     "output_type": "stream",
     "text": [
      "20\n",
      "19\n",
      "18\n",
      "17\n",
      "16\n"
     ]
    }
   ],
   "execution_count": 8
  },
  {
   "cell_type": "markdown",
   "source": [
    "**6 Сумма чисел**\n",
    "\n",
    "На вход программе подается натуральное число n. Напишите программу, которая подсчитывает сумму тех чисел от 1 до n (включительно), квадрат которых оканчивается на 2, 5 или 8.\n",
    "\n",
    "**Формат входных данных**:\n",
    "На вход программе подаются одно натуральное число."
   ],
   "metadata": {
    "id": "DsLxWnD9Hdxp"
   }
  },
  {
   "cell_type": "code",
   "source": [
    "n = int(input(\"Enter a natural number: \"))\n",
    "total_sum = 0\n",
    "\n",
    "for i in range(1, n + 1):\n",
    "    square = i ** 2\n",
    "    if square % 10 in [2, 5, 8]:\n",
    "        total_sum += i\n",
    "\n",
    "print(total_sum)"
   ],
   "metadata": {
    "id": "A2_A7yOWvkEn",
    "ExecuteTime": {
     "end_time": "2025-01-01T19:34:29.851072Z",
     "start_time": "2025-01-01T19:34:26.905486Z"
    }
   },
   "outputs": [
    {
     "name": "stdout",
     "output_type": "stream",
     "text": [
      "500\n"
     ]
    }
   ],
   "execution_count": 9
  },
  {
   "cell_type": "markdown",
   "source": [
    "**7 Без нулей**\n",
    "\n",
    "Напишите программу, которая считывает 5 чисел и выводит произведение отличных от нуля чисел.\n",
    "\n",
    "**Формат входных данных**:\n",
    "На вход программе подаются 5 целых чисел, каждое на отдельной строке."
   ],
   "metadata": {
    "id": "AJuy63t6MoCl"
   }
  },
  {
   "cell_type": "code",
   "source": [
    "number1 = int(input(\"Enter 1-number: \"))\n",
    "number2 = int(input(\"Enter 2-number: \"))\n",
    "number3 = int(input(\"Enter 3-number: \"))\n",
    "number4 = int(input(\"Enter 4-number: \"))\n",
    "number5 = int(input(\"Enter 5-number: \"))\n",
    "\n",
    "total = 1\n",
    "\n",
    "total *= number1 if number1 != 0 else 1\n",
    "total *= number2 if number2 != 0 else 1\n",
    "total *= number3 if number3 != 0 else 1\n",
    "total *= number4 if number4 != 0 else 1\n",
    "total *= number5 if number5 != 0 else 1\n",
    "print(total)"
   ],
   "metadata": {
    "id": "CzWTBckkMoCo",
    "ExecuteTime": {
     "end_time": "2025-01-01T19:42:29.146227Z",
     "start_time": "2025-01-01T19:42:20.824794Z"
    }
   },
   "outputs": [
    {
     "name": "stdout",
     "output_type": "stream",
     "text": [
      "16\n"
     ]
    }
   ],
   "execution_count": 10
  },
  {
   "cell_type": "markdown",
   "source": [
    "**8 Сумма делителей**\n",
    "\n",
    "На вход программе подается натуральное число n. Напишите программу, которая вычисляет сумму всех его делителей.\n",
    "\n",
    "**Формат входных данных**:\n",
    "На вход программе подается натуральное число n."
   ],
   "metadata": {
    "id": "hjMB8VQENen5"
   }
  },
  {
   "cell_type": "code",
   "metadata": {
    "id": "TIw40PZ0Nen8",
    "ExecuteTime": {
     "end_time": "2025-02-11T05:08:38.704358Z",
     "start_time": "2025-02-11T05:08:34.119649Z"
    }
   },
   "source": [
    "number = int(input(\"Enter a number: \"))\n",
    "total = 0\n",
    "for i in range(1, number + 1):\n",
    "    if number % i == 0:\n",
    "        total += i\n",
    "print(total)\n"
   ],
   "outputs": [
    {
     "name": "stdout",
     "output_type": "stream",
     "text": [
      "93\n"
     ]
    }
   ],
   "execution_count": 1
  },
  {
   "cell_type": "markdown",
   "source": [
    "**9 Наибольшие числа (задача чуть сложнее остальных) ❗**\n",
    "\n",
    "На вход программе подается натуральное число n (гарантируется, что n >= 2), а затем n различных натуральных чисел последовательности, каждое на отдельной строке. Напишите программу, которая выводит наибольшее и второе наибольшее число последовательности.\n",
    "\n",
    "**Формат входных данных**:\n",
    "На вход программе подаются натуральное число n≥2, а затем n различных натуральных чисел, каждое на отдельной строке."
   ],
   "metadata": {
    "id": "UHF2yYWfH2WV"
   }
  },
  {
   "cell_type": "code",
   "source": [
    "number = int(input(\"Enter a number: \"))\n",
    "list_ = []\n",
    "while number:\n",
    "    a = int(input(\"Enter a number: \"))\n",
    "    list_.append(a)\n",
    "    number -= 1\n",
    "\n",
    "print(max(list_))\n",
    "list_.remove(max(list_))\n",
    "print(max(list_))\n",
    "\n",
    "\n",
    "\n"
   ],
   "metadata": {
    "id": "SgTX9qzUHL7g",
    "ExecuteTime": {
     "end_time": "2025-02-11T05:12:16.510737Z",
     "start_time": "2025-02-11T05:12:02.456533Z"
    }
   },
   "outputs": [
    {
     "name": "stdout",
     "output_type": "stream",
     "text": [
      "11\n",
      "10\n"
     ]
    }
   ],
   "execution_count": 3
  },
  {
   "cell_type": "markdown",
   "source": [
    "**10 Сумма чисел**\n",
    "\n",
    "На вход программе подается последовательность целых чисел, каждое число на отдельной строке. Признаком окончания последовательности является любое отрицательное число, при этом в саму последовательность оно не входит. Напишите программу, которая выводит сумму всех членов данной последовательности.\n",
    "\n",
    "**Формат входных данных**:\n",
    "На вход программе подается последовательность чисел, каждое число на отдельной строке."
   ],
   "metadata": {
    "id": "q3UAoClkPLoZ"
   }
  },
  {
   "cell_type": "code",
   "source": [
    "# Входные данные:\n",
    "1\n",
    "2\n",
    "3\n",
    "4\n",
    "5\n",
    "6\n",
    "7\n",
    "8\n",
    "9\n",
    "10\n",
    "-5\n",
    "\n",
    "# Вывод программы:\n",
    "55"
   ],
   "metadata": {
    "id": "er4Fre-vPLoa"
   },
   "execution_count": null,
   "outputs": []
  },
  {
   "cell_type": "code",
   "execution_count": null,
   "metadata": {
    "id": "eJEroDKoPLob"
   },
   "outputs": [],
   "source": []
  },
  {
   "cell_type": "markdown",
   "source": [
    "**11 Пока делимся**\n",
    "\n",
    "На вход программе подается последовательность целых чисел делящихся на 7, каждое число на отдельной строке. Концом последовательности является любое число, не делящееся на 7 (само это число в последовательность не входит, лишь символизируя её конец). Напишите программу, которая выводит члены данной последовательности.\n",
    "\n",
    "**Формат входных данных**:\n",
    "На вход программе подается последовательность чисел, каждое число на отдельной строке."
   ],
   "metadata": {
    "id": "uYG5UF0qO3n5"
   }
  },
  {
   "cell_type": "code",
   "source": [
    "# Входные данные:\n",
    "49\n",
    "2401\n",
    "4809\n",
    "0\n",
    "2\n",
    "\n",
    "# Вывод программы:\n",
    "49\n",
    "2401\n",
    "4809\n",
    "0"
   ],
   "metadata": {
    "id": "zuC7sRUmO3n6"
   },
   "execution_count": null,
   "outputs": []
  },
  {
   "cell_type": "code",
   "execution_count": null,
   "metadata": {
    "id": "g8R_X2CcO3n6"
   },
   "outputs": [],
   "source": []
  },
  {
   "cell_type": "markdown",
   "source": [
    "**12 Количество пятёрок**\n",
    "\n",
    "На вход программе подается последовательность целых чисел от 1 до 5, каждое число на отдельной строке. Концом последовательности является любое неположительное число либо число, большее 5. Напишите программу, которая выводит количество пятерок.\n",
    "\n",
    "**Формат входных данных:**\n",
    "На вход программе подается последовательность чисел, каждое число на отдельной строке."
   ],
   "metadata": {
    "id": "tEExSLa9GWf1"
   }
  },
  {
   "cell_type": "code",
   "source": [
    "# Входные данные:\n",
    "5\n",
    "5\n",
    "4\n",
    "2\n",
    "-9\n",
    "\n",
    "# Вывод программы:\n",
    "2"
   ],
   "metadata": {
    "id": "PthtgK57vAGO"
   },
   "execution_count": null,
   "outputs": []
  },
  {
   "cell_type": "code",
   "source": [],
   "metadata": {
    "id": "6gLSCYAvGYnF"
   },
   "execution_count": null,
   "outputs": []
  },
  {
   "cell_type": "markdown",
   "source": [
    "**13 Обратный порядок**\n",
    "\n",
    "Дано натуральное число. Напишите программу, которая меняет порядок цифр числа на обратный.\n",
    "\n",
    "**Формат входных данных:**\n",
    "На вход программе подается одно натуральное число."
   ],
   "metadata": {
    "id": "eW5H_irOPuR_"
   }
  },
  {
   "cell_type": "code",
   "source": [
    "# Входные данные:\n",
    "5086334\n",
    "\n",
    "# Вывод программы:\n",
    "4336805"
   ],
   "metadata": {
    "id": "2uTDeQqkPuR_"
   },
   "execution_count": null,
   "outputs": []
  },
  {
   "cell_type": "code",
   "source": [],
   "metadata": {
    "id": "O40TQJbfPuR_"
   },
   "execution_count": null,
   "outputs": []
  },
  {
   "cell_type": "markdown",
   "source": [
    "**13 max и min**\n",
    "\n",
    "Дано натуральное число n(n≥10). Напишите программу, которая определяет его максимальную и минимальную цифры и выводит текст в следующем формате:\n",
    "\n",
    "Максимальная цифра равна <максимальная цифра>\n",
    "\n",
    "Минимальная цифра равна <минимальная цифра>\n",
    "\n",
    "**Формат входных данных:**\n",
    "На вход программе подается одно натуральное число большее или равное 10."
   ],
   "metadata": {
    "id": "zGJD5KVYQQty"
   }
  },
  {
   "cell_type": "code",
   "source": [
    "#Входные данные:\n",
    "26670\n",
    "\n",
    "#Вывод программы:\n",
    "Максимальная цифра равна 7\n",
    "Минимальная цифра равна 0"
   ],
   "metadata": {
    "id": "PElQUMERQQty"
   },
   "execution_count": null,
   "outputs": []
  },
  {
   "cell_type": "code",
   "source": [],
   "metadata": {
    "id": "v7zXc8xBQQtz"
   },
   "execution_count": null,
   "outputs": []
  },
  {
   "cell_type": "markdown",
   "source": [
    "**14 Одинаковые цифры**\n",
    "\n",
    "Дано натуральное число. Напишите программу, которая определяет, состоит ли указанное число из одинаковых цифр.\n",
    "\n",
    "Программа должна вывести «YES» если число состоит из одинаковых цифр и «NO» в противном случае.\n",
    "\n",
    "**Формат входных данных:**\n",
    "На вход программе подается одно натуральное число."
   ],
   "metadata": {
    "id": "MvoqoggLQmRB"
   }
  },
  {
   "cell_type": "code",
   "source": [
    "# Входные данные:\n",
    "11111\n",
    "\n",
    "# Вывод программы:\n",
    "YES\n",
    "\n",
    "# Входные данные:\n",
    "11211\n",
    "\n",
    "# Вывод программы:\n",
    "NO"
   ],
   "metadata": {
    "id": "dTnNoPQYQmRJ"
   },
   "execution_count": null,
   "outputs": []
  },
  {
   "cell_type": "code",
   "source": [],
   "metadata": {
    "id": "E8MjyT3oQmRK"
   },
   "execution_count": null,
   "outputs": []
  },
  {
   "cell_type": "markdown",
   "source": [
    "**15 Наименьший делитель**\n",
    "\n",
    "На вход программе подается число n>1. Напишите программу, которая выводит его наименьший отличный от 1 делитель.\n",
    "\n",
    "**Формат входных данных**:\n",
    "На вход программе подается одно натуральное число n."
   ],
   "metadata": {
    "id": "DHkyW9oBvlWm"
   }
  },
  {
   "cell_type": "code",
   "source": [
    "# Входные данные:\n",
    "17\n",
    "\n",
    "# Вывод программы:\n",
    "17\n",
    "\n",
    "# Входные данные:\n",
    "9\n",
    "\n",
    "# Вывод программы:\n",
    "3"
   ],
   "metadata": {
    "id": "LUkSe8a8vlWm"
   },
   "execution_count": null,
   "outputs": []
  },
  {
   "cell_type": "code",
   "source": [],
   "metadata": {
    "id": "tp61SQ96vlWm"
   },
   "execution_count": null,
   "outputs": []
  },
  {
   "cell_type": "markdown",
   "source": [
    "**16 Таблица цифр**\n",
    "\n",
    "Даны натуральные числа n и m, оба из которых не больше 9. Напишите программу, которая печатает таблицу размером n на m, где n - количество строк таблицы. Каждая строка таблицы содержит числа от 1 до m включительно, разделенные пробелом.\n",
    "\n",
    "**Формат входных данных:**\n",
    "На вход программе подаются два натуральных числа, каждое на отдельной строке."
   ],
   "metadata": {
    "id": "MxagicBPRqzj"
   }
  },
  {
   "cell_type": "code",
   "source": [
    "#Входные данные:\n",
    "3\n",
    "5\n",
    "\n",
    "#Вывод программы:\n",
    "1 2 3 4 5\n",
    "1 2 3 4 5\n",
    "1 2 3 4 5\n",
    "\n",
    "#Входные данные:\n",
    "4\n",
    "2\n",
    "\n",
    "#Вывод программы:\n",
    "1 2\n",
    "1 2\n",
    "1 2\n",
    "1 2"
   ],
   "metadata": {
    "id": "PpVHUJGCRqzk"
   },
   "execution_count": null,
   "outputs": []
  },
  {
   "cell_type": "code",
   "source": [],
   "metadata": {
    "id": "JIZ2Fb30Rqzl"
   },
   "execution_count": null,
   "outputs": []
  },
  {
   "cell_type": "markdown",
   "source": [
    "**17 Численный треугольник**\n",
    "\n",
    "Дано натуральное число n. Напишите программу, которая печатает численный треугольник в соответствии с примером:\n",
    "\n",
    "1\n",
    "\n",
    "22\n",
    "\n",
    "333\n",
    "\n",
    "4444\n",
    "\n",
    "55555\n",
    "\n",
    "...\n",
    "\n",
    "**Формат входных данных**:\n",
    "На вход программе подается одно натуральное число n."
   ],
   "metadata": {
    "id": "rwvZWH6FHqrJ"
   }
  },
  {
   "cell_type": "code",
   "source": [
    "# Входные данные:\n",
    "4\n",
    "# Вывод программы:\n",
    "1\n",
    "22\n",
    "333\n",
    "4444"
   ],
   "metadata": {
    "id": "bggeVub8wAek"
   },
   "execution_count": null,
   "outputs": []
  },
  {
   "cell_type": "code",
   "source": [],
   "metadata": {
    "id": "5-eXhABHO2Sw"
   },
   "execution_count": null,
   "outputs": []
  },
  {
   "cell_type": "markdown",
   "source": [
    "**18 простые числа (задача чуть сложнее остальных) ❗**\n",
    "\n",
    "На вход программе подается два натуральных числа a и b (a < b). Напишите программу, которая находит все простые числа от a до b включительно.\n",
    "**Примечание - число 1 простым не является.**\n",
    "\n",
    "\n",
    "**Формат входных данных**:\n",
    "На вход программе подаются два целых числа a и b (a≤b)."
   ],
   "metadata": {
    "id": "2BxV5BAmMkuJ"
   }
  },
  {
   "cell_type": "code",
   "source": [
    "# Входные данные:\n",
    "1\n",
    "10\n",
    "# Вывод программы:\n",
    "2\n",
    "3\n",
    "5\n",
    "7"
   ],
   "metadata": {
    "id": "qpAsaeQ-wN7B"
   },
   "execution_count": null,
   "outputs": []
  },
  {
   "cell_type": "code",
   "source": [],
   "metadata": {
    "id": "kZagpmdDO2QA"
   },
   "execution_count": null,
   "outputs": []
  },
  {
   "cell_type": "markdown",
   "source": [
    "**19 Сумма делителей (задача чуть сложнее остальных) ❗**\n",
    "\n",
    "На вход программе подаются два натуральных числа a и b (a< b). Напишите программу, которая находит натуральное число из отрезка [a;b] (от a до b включительно) с максимальной суммой делителей. Если чисел с максимальной суммой делителей несколько, то искомым числом является наибольшее из них. Ваша программа должна выводить ответ в следующем формате:\n",
    "\n",
    "<число с максимальной суммой делителей> <сумма делителей этого числа>\n",
    "\n",
    "\n",
    "**Формат входных данных**:\n",
    "На вход программе подаются два числа, каждое на отдельной строке."
   ],
   "metadata": {
    "id": "xOjMf-VrTKFo"
   }
  },
  {
   "cell_type": "code",
   "source": [
    "#Входные данные:\n",
    "1\n",
    "100\n",
    "#Вывод программы:\n",
    "96 252"
   ],
   "metadata": {
    "id": "ZQAosU28TKFp"
   },
   "execution_count": null,
   "outputs": []
  },
  {
   "cell_type": "code",
   "source": [],
   "metadata": {
    "id": "I6AIILFTTKFp"
   },
   "execution_count": null,
   "outputs": []
  }
 ]
}
