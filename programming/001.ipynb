{
 "nbformat": 4,
 "nbformat_minor": 0,
 "metadata": {
  "colab": {
   "provenance": []
  },
  "kernelspec": {
   "name": "python3",
   "display_name": "Python 3 (ipykernel)",
   "language": "python"
  },
  "language_info": {
   "name": "python"
  }
 },
 "cells": [
  {
   "cell_type": "markdown",
   "source": [
    "**1 Приветстсвие**\n",
    "\n",
    "На вход программе подаётся строка текста – имя человека. Напишите программу, которая принимает эту строку текста через стандартный поток ввода (команда input()). Далее программа должна выводить на экран приветствие в следующем формате:\n",
    "\n",
    "*Привет, <имя человека>*\n",
    "\n",
    "где <имя человека> – строка текста, которую ваша программа приняла на вход."
   ],
   "metadata": {
    "id": "TLFiSy5rwbiD"
   }
  },
  {
   "cell_type": "code",
   "source": [
    "name = input(\"Enter your name: \")\n",
    "print(f\"Hello, {name}!\")"
   ],
   "metadata": {
    "id": "SbZ1ybhOwfV6",
    "ExecuteTime": {
     "end_time": "2024-12-22T16:16:21.409289Z",
     "start_time": "2024-12-22T16:16:15.265699Z"
    }
   },
   "outputs": [
    {
     "name": "stdout",
     "output_type": "stream",
     "text": [
      "Hello, Shaxzodbek!\n"
     ]
    }
   ],
   "execution_count": 1
  },
  {
   "cell_type": "markdown",
   "source": [
    "**2 Повторяй за мной**\n",
    "\n",
    "Напишите программу, которая принимает через стандартный поток ввода (команда input()) три строки, а затем выводит их в **обратной** последовательности, каждую на отдельной строчке."
   ],
   "metadata": {
    "id": "XXzP9oLswzcK"
   }
  },
  {
   "cell_type": "code",
   "source": [
    "first = input(\"Enter first string: \")\n",
    "second = input(\"Enter second string: \")\n",
    "third = input(\"Enter third string: \")\n",
    "print(third)\n",
    "print(second)\n",
    "print(first)"
   ],
   "metadata": {
    "id": "UpeCY9u_w316",
    "ExecuteTime": {
     "end_time": "2024-12-22T16:17:34.200919Z",
     "start_time": "2024-12-22T16:17:28.639472Z"
    }
   },
   "outputs": [
    {
     "name": "stdout",
     "output_type": "stream",
     "text": [
      "3\n",
      "2\n",
      "1\n"
     ]
    }
   ],
   "execution_count": 2
  },
  {
   "cell_type": "markdown",
   "source": [
    "**3 Приветстсвие 2**\n",
    "\n",
    "Напишите программу, которая приветствует пользователя в следующем формате:\n",
    "\n",
    "Привет, <имя пользователя>!\n",
    "\n",
    "где <имя пользователя> – строка, которую ваша программа принимает на вход через стандартный поток ввода (команда input()).\n",
    "\n",
    "Обратите внимание, что ! стоит сразу после введенного имени без пробела"
   ],
   "metadata": {
    "id": "rgNGB9SUxMQS"
   }
  },
  {
   "cell_type": "code",
   "source": [
    "name = input(\"Enter your name: \").strip()\n",
    "print(f\"Hello, {name}!\")"
   ],
   "metadata": {
    "id": "pz68p9_TxXg1",
    "ExecuteTime": {
     "end_time": "2024-12-22T16:18:36.804083Z",
     "start_time": "2024-12-22T16:18:31.447873Z"
    }
   },
   "outputs": [
    {
     "name": "stdout",
     "output_type": "stream",
     "text": [
      "Hello, Shaxzodbek!\n"
     ]
    }
   ],
   "execution_count": 3
  },
  {
   "cell_type": "markdown",
   "source": [
    "**4 Кастомный разделитель**\n",
    "Напишите программу, которая считывает строку-разделитель и три строки, а затем выводит указанные строки через разделитель в следующем формате:\n",
    "\n",
    "<вторая строка><строка-разделитель><третья строка><строка-разделитель><четвёртая строка>\n",
    "\n",
    "**Формат входных данных**:\n",
    "На вход программе подаются четыре строки (каждая на отдельной строке): строка-разделитель и три строки."
   ],
   "metadata": {
    "id": "otNsZC-5btEB"
   }
  },
  {
   "cell_type": "code",
   "metadata": {
    "id": "yASZ5cnFbndR",
    "ExecuteTime": {
     "end_time": "2024-12-22T16:20:26.117238Z",
     "start_time": "2024-12-22T16:20:19.667318Z"
    }
   },
   "source": [
    "adder = input(\"Enter adder: \")\n",
    "first = input(\"Enter first string: \")\n",
    "second = input(\"Enter second string: \")\n",
    "third = input(\"Enter third string: \")\n",
    "print(first + adder + second + adder + third)"
   ],
   "outputs": [
    {
     "name": "stdout",
     "output_type": "stream",
     "text": [
      "1#2#3\n"
     ]
    }
   ],
   "execution_count": 6
  },
  {
   "cell_type": "markdown",
   "source": [
    "**5 Три последовательных числа**\n",
    "Напишите программу вывода на экран трех последовательно идущих чисел, каждое на отдельной строке. Первое число вводит пользователь, остальные числа вы должны сами вычислять в программе.\n",
    "\n",
    "**Формат входных данных**:\n",
    "На вход программе подаётся одно целое число."
   ],
   "metadata": {
    "id": "SSA9KXZSdP0e"
   }
  },
  {
   "cell_type": "code",
   "metadata": {
    "id": "8LN44OuRdP0e",
    "ExecuteTime": {
     "end_time": "2024-12-22T16:21:24.976231Z",
     "start_time": "2024-12-22T16:21:22.867924Z"
    }
   },
   "source": [
    "number = int(input(\"Enter number: \"))\n",
    "print(number)\n",
    "print(number + 1)\n",
    "print(number + 2)"
   ],
   "outputs": [
    {
     "name": "stdout",
     "output_type": "stream",
     "text": [
      "9\n",
      "10\n",
      "11\n"
     ]
    }
   ],
   "execution_count": 7
  },
  {
   "cell_type": "markdown",
   "source": [
    "**6 Куб**\n",
    "\n",
    "Напишите программу, вычисляющую объём куба и площадь его полной поверхности по введенному значению длины ребра.\n",
    "\n",
    "Объем куба и площадь полной поверхности можно вычислить по формулам:\n",
    "\n",
    "V= a**3,\n",
    "\n",
    "S= 6a**2\n",
    "\n",
    "Ответ нужно вывести в формате, указаном в примере"
   ],
   "metadata": {
    "id": "xrK41GOgxpjC"
   }
  },
  {
   "cell_type": "code",
   "source": [
    "a = int(input(\"Enter cube side: \"))\n",
    "v = a**3\n",
    "s = 6 * a**2\n",
    "print(f\"Cube volume: {v}\")\n",
    "print(f\"Cube surface area: {s}\")"
   ],
   "metadata": {
    "id": "XD4Ynv46yH0m",
    "ExecuteTime": {
     "end_time": "2024-12-22T16:22:20.845487Z",
     "start_time": "2024-12-22T16:22:17.124431Z"
    }
   },
   "outputs": [
    {
     "name": "stdout",
     "output_type": "stream",
     "text": [
      "Cube volume: 1000\n",
      "Cube surface area: 600\n"
     ]
    }
   ],
   "execution_count": 8
  },
  {
   "cell_type": "markdown",
   "source": [
    "**7 Следующее и предыдущее**\n",
    "\n",
    "Напишите программу, которая считывает целое число и выводит для него на экран следующее и предыдущее целые числа в следующем формате:\n",
    "\n",
    "Следующее за числом <текущее число> число: <следующее число>\n",
    "Для числа <текущее число> предыдущее число: <предыдущее число>"
   ],
   "metadata": {
    "id": "3phAuJZ_zKQ1"
   }
  },
  {
   "cell_type": "code",
   "source": [
    "number = int(input(\"Enter number: \"))\n",
    "print(f\"Next number for {number} is {number + 1}\")\n",
    "print(f\"Previous number for {number} is {number - 1}\")"
   ],
   "metadata": {
    "id": "wtw3u5vqzQF6",
    "ExecuteTime": {
     "end_time": "2024-12-22T16:23:16.495144Z",
     "start_time": "2024-12-22T16:23:13.878544Z"
    }
   },
   "outputs": [
    {
     "name": "stdout",
     "output_type": "stream",
     "text": [
      "Next number for 20 is 21\n",
      "Previous number for 20 is 19\n"
     ]
    }
   ],
   "execution_count": 9
  },
  {
   "cell_type": "markdown",
   "source": [
    "**8 Арифметические операции**\n",
    "\n",
    "Напишите программу, которая принимает на вход два числа a и b, вычисляет сумму, разность и произведение для этих чисел и выводит текст в следующем формате:\n",
    "\n",
    "<число a> + <число b> = <сумма чисел a и b>\n",
    "<число a> - <число b> = <разность чисел a и b>\n",
    "<число a> * <число b> = <произведение чисел a и b>"
   ],
   "metadata": {
    "id": "W4ONeUgnzb_B"
   }
  },
  {
   "cell_type": "code",
   "source": [
    "first = int(input(\"Enter first number: \"))\n",
    "second = int(input(\"Enter second number: \"))\n",
    "print(f\"{first} + {second} = {first + second}\")\n",
    "print(f\"{first} - {second} = {first - second}\")\n",
    "print(f\"{first} * {second} = {first * second}\")"
   ],
   "metadata": {
    "id": "4pEdbqHCzik6",
    "ExecuteTime": {
     "end_time": "2024-12-22T16:23:46.878109Z",
     "start_time": "2024-12-22T16:23:41.138235Z"
    }
   },
   "outputs": [
    {
     "name": "stdout",
     "output_type": "stream",
     "text": [
      "2 + 7 = 9\n",
      "2 - 7 = -5\n",
      "2 * 7 = 14\n"
     ]
    }
   ],
   "execution_count": 10
  },
  {
   "cell_type": "markdown",
   "source": [
    "**9 Мандарины**\n",
    "\n",
    "n школьников делят k мандаринов поровну, неделящийся остаток остается в корзине. Сколько целых мандаринов достанется каждому школьнику? Сколько целых мандаринов останется в корзине?\n",
    "\n",
    "На вход программе подаётся два целых числа: количество школьников и количество мандаринов, каждое на отдельной строке.\n",
    "Программа должна вывести два числа: количество мандаринов, которое достанется каждому школьнику, и количество мандаринов, которое останется в корзине, каждое на отдельной строке."
   ],
   "metadata": {
    "id": "iyUTVhU8zy9i"
   }
  },
  {
   "cell_type": "code",
   "source": [
    "number = int(input(\"Enter number of students: \"))\n",
    "mandarins = int(input(\"Enter number of mandarins: \"))\n",
    "print(mandarins // number)\n",
    "print(mandarins % number)"
   ],
   "metadata": {
    "id": "qBuUb6miz4zL",
    "ExecuteTime": {
     "end_time": "2024-12-22T16:24:27.862083Z",
     "start_time": "2024-12-22T16:24:22.566304Z"
    }
   },
   "outputs": [
    {
     "name": "stdout",
     "output_type": "stream",
     "text": [
      "12\n",
      "1\n"
     ]
    }
   ],
   "execution_count": 11
  },
  {
   "cell_type": "markdown",
   "source": [
    "**10 Пересчёт временного интервала**\n",
    "\n",
    "Напишите программу для пересчёта величины временного интервала, заданного в минутах, в величину, выраженную в часах и минутах в следующем формате:\n",
    "\n",
    "<исходное кол-во минут> мин - это <полное кол-во часов> час <оставшееся кол-во минут> минут.\n",
    "\n",
    "**Формат входных данных**:\n",
    "На вход программе подаётся целое число – количество минут."
   ],
   "metadata": {
    "id": "VI281fKTqzsu"
   }
  },
  {
   "cell_type": "code",
   "source": [
    "minutes = int(input(\"Enter minutes: \"))\n",
    "hours = minutes // 60\n",
    "minutes = minutes % 60\n",
    "print(f\"{hours} hours {minutes} minutes\")"
   ],
   "metadata": {
    "id": "sW81a3dkqyhG",
    "ExecuteTime": {
     "end_time": "2024-12-22T16:25:30.605754Z",
     "start_time": "2024-12-22T16:25:27.710392Z"
    }
   },
   "outputs": [
    {
     "name": "stdout",
     "output_type": "stream",
     "text": [
      "2 hours 30 minutes\n"
     ]
    }
   ],
   "execution_count": 13
  },
  {
   "cell_type": "markdown",
   "source": [
    "**11 Трёхзначное число**\n",
    "\n",
    "Напишите программу, которая рассчитывает сумму и произведение цифр положительного трёхзначного числа и выводит текст в следующем формате:\n",
    "\n",
    "Сумма цифр = <сумма цифр>\n",
    "Произведение цифр = <произведение цифр>\n",
    "\n",
    "**Формат входных данных**:\n",
    "На вход программе подаётся положительное трёхзначное число."
   ],
   "metadata": {
    "id": "hW6zynL3rSmp"
   }
  },
  {
   "cell_type": "code",
   "source": [
    "number = int(input(\"Enter number: \"))\n",
    "first = number // 100\n",
    "second = number // 10 % 10\n",
    "third = number % 10\n",
    "print(f\"Sum of digits = {first + second + third}\")\n",
    "print(f\"Product of digits = {first * second * third}\")"
   ],
   "metadata": {
    "id": "yF1P2ljmrSmq",
    "ExecuteTime": {
     "end_time": "2024-12-23T04:36:00.117953Z",
     "start_time": "2024-12-23T04:35:52.551303Z"
    }
   },
   "outputs": [
    {
     "name": "stdout",
     "output_type": "stream",
     "text": [
      "Sum of digits = 11\n",
      "Product of digits = 24\n"
     ]
    }
   ],
   "execution_count": 1
  },
  {
   "cell_type": "markdown",
   "source": [
    "**12 Четырёхзначное число**\n",
    "\n",
    "Напишите программу для нахождения цифр четырёхзначного числа.\n",
    "\n",
    "На вход программе подаётся положительное четырёхзначное целое число. Программа должна вывести текст в соответствии с условием задачи.\n"
   ],
   "metadata": {
    "id": "BOi4icA90bha"
   }
  },
  {
   "cell_type": "code",
   "source": [
    "number = int(input(\"Enter number: \"))\n",
    "first = number // 1000\n",
    "second = number // 100 % 10\n",
    "third = number // 10 % 10\n",
    "fourth = number % 10\n",
    "print(f\"Thousands: {first}\")\n",
    "print(f\"Hundreds: {second}\")\n",
    "print(f\"Tens: {third}\")\n",
    "print(f\"Units: {fourth}\")"
   ],
   "metadata": {
    "id": "h4dSjm_N0k6c",
    "ExecuteTime": {
     "end_time": "2024-12-23T04:46:31.891325Z",
     "start_time": "2024-12-23T04:46:28.587305Z"
    }
   },
   "outputs": [
    {
     "name": "stdout",
     "output_type": "stream",
     "text": [
      "Thousands: 1\n",
      "Hundreds: 2\n",
      "Tens: 3\n",
      "Units: 4\n"
     ]
    }
   ],
   "execution_count": 2
  },
  {
   "cell_type": "markdown",
   "source": [
    "**13 Пароль**\n",
    "\n",
    "При регистрации на сайтах требуется вводить пароль дважды. Это сделано для безопасности, поскольку такой подход уменьшает возможность неверного ввода пароля.\n",
    "\n",
    "Напишите программу, которая сравнивает пароль и его подтверждение. Если они совпадают, то программа выводит: «Пароль принят», иначе: «Пароль не принят»."
   ],
   "metadata": {
    "id": "wGfh7Nlw0uTK"
   }
  },
  {
   "cell_type": "code",
   "source": [
    "password = input(\"Enter password: \")\n",
    "confirmation = input(\"Enter password confirmation: \")\n",
    "if password == confirmation:\n",
    "    print(\"Password accepted\")\n",
    "else:\n",
    "    print(\"Password not accepted\")"
   ],
   "metadata": {
    "id": "JhN6cX2L0zCU"
   },
   "execution_count": null,
   "outputs": []
  },
  {
   "cell_type": "markdown",
   "source": [
    "**14 Четное или нечетное?**\n",
    "\n",
    "Напишите программу, которая определяет, является число четным или нечетным.\n",
    "\n",
    "Программа должна вывести «Четное» (без кавычек), если число четное, или «Нечетное» (без кавычек) в противном случае."
   ],
   "metadata": {
    "id": "i3lL-Rt607F9"
   }
  },
  {
   "cell_type": "code",
   "source": [
    "number = int(input(\"Enter number: \"))\n",
    "if number % 2 == 0:\n",
    "    print(\"Even\")\n",
    "elif number == 0:\n",
    "    print(\"Zero\")\n",
    "else:\n",
    "    print(\"Odd\")"
   ],
   "metadata": {
    "id": "izQzmaDl1D8q",
    "ExecuteTime": {
     "end_time": "2024-12-23T04:48:57.087777Z",
     "start_time": "2024-12-23T04:48:54.497546Z"
    }
   },
   "outputs": [
    {
     "name": "stdout",
     "output_type": "stream",
     "text": [
      "Even\n"
     ]
    }
   ],
   "execution_count": 3
  },
  {
   "cell_type": "markdown",
   "source": [
    "**15 Соотношение**\n",
    "\n",
    "Напишите программу, которая проверяет, что для заданного четырехзначного числа выполняется следующее соотношение: сумма первой и последней цифр равна разности второй и третьей цифр.\n",
    "\n",
    "Программа должна вывести «ДА», если соотношение выполняется, или «НЕТ» — если не выполняется."
   ],
   "metadata": {
    "id": "fnKf5Vld1HUa"
   }
  },
  {
   "cell_type": "code",
   "source": [
    "number = int(input(\"Enter number: \"))\n",
    "first = number // 1000\n",
    "second = number // 100 % 10\n",
    "third = number // 10 % 10\n",
    "fourth = number\n",
    "if first + fourth == second - third:\n",
    "    print(\"YES\")\n",
    "else:\n",
    "    print(\"NO\")"
   ],
   "metadata": {
    "id": "qDgT1paw1VEL",
    "ExecuteTime": {
     "end_time": "2024-12-23T04:54:45.317457Z",
     "start_time": "2024-12-23T04:54:42.378620Z"
    }
   },
   "outputs": [
    {
     "name": "stdout",
     "output_type": "stream",
     "text": [
      "NO\n"
     ]
    }
   ],
   "execution_count": 4
  },
  {
   "cell_type": "markdown",
   "source": [
    "**16 Наименьшее из четырех чисел**\n",
    "Напишите программу, которая определяет наименьшее из четырёх чисел.\n",
    "\n",
    "На вход программе подаются четыре целых числа. Программа должна вывести наименьшее из четырёх чисел. Учитывайте, что минимальные числа могут дублироваться. В таком случае необходимо вывести только одно из них."
   ],
   "metadata": {
    "id": "082LL80_1anN"
   }
  },
  {
   "cell_type": "code",
   "source": [
    "first = int(input(\"Enter first number: \"))\n",
    "second = int(input(\"Enter second number: \"))\n",
    "third = int(input(\"Enter third number: \"))\n",
    "fourth = int(input(\"Enter fourth number: \"))\n",
    "print(min(first, second, third, fourth))"
   ],
   "metadata": {
    "id": "sZ2Xbh7m11AN",
    "ExecuteTime": {
     "end_time": "2024-12-23T05:03:59.406908Z",
     "start_time": "2024-12-23T05:03:53.681805Z"
    }
   },
   "outputs": [
    {
     "name": "stdout",
     "output_type": "stream",
     "text": [
      "1\n"
     ]
    }
   ],
   "execution_count": 5
  },
  {
   "cell_type": "markdown",
   "source": [
    "**17 Только положительные**\n",
    "\n",
    "Напишите программу, которая считывает три числа и подсчитывает сумму только положительных чисел.\n",
    "\n",
    "На вход программе подаются три целых числа, каждое на новой строке. Программа должна вывести одно число – сумму положительных чисел. Если положительных чисел нет, то следует вывести 0."
   ],
   "metadata": {
    "id": "CePHctu62EGd"
   }
  },
  {
   "cell_type": "code",
   "source": [
    "first = int(input(\"Enter first number: \"))\n",
    "second = int(input(\"Enter second number: \"))\n",
    "third = int(input(\"Enter third number: \"))\n",
    "print(max(0, first) + max(0, second) + max(0, third))"
   ],
   "metadata": {
    "id": "pmx5WpdR2QB1"
   },
   "execution_count": null,
   "outputs": []
  },
  {
   "cell_type": "markdown",
   "source": [
    "**18 Красивое число**\n",
    "\n",
    "Назовём число красивым, если оно является четырёхзначным и делится нацело на\n",
    "7 или на 17. Напишите программу, определяющую, является ли введённое число красивым. Программа должна вывести «YES» (без кавычек), если число является красивым, или «NO» (без кавычек) в противном случае.\n",
    "\n",
    "**Формат входных данных**:\n",
    "На вход программе подаётся натуральное число."
   ],
   "metadata": {
    "id": "OIAM1s5Urx5K"
   }
  },
  {
   "cell_type": "code",
   "source": [
    "number = int(input(\"Enter number: \"))\n",
    "if 1000 <= number <= 9999 and (number % 7 == 0 or number % 17 == 0):\n",
    "    print(\"YES\")\n",
    "else:\n",
    "    print(\"NO\")"
   ],
   "metadata": {
    "id": "PzSQMi-prx5K",
    "ExecuteTime": {
     "end_time": "2024-12-23T05:14:28.418583Z",
     "start_time": "2024-12-23T05:14:25.324065Z"
    }
   },
   "outputs": [
    {
     "name": "stdout",
     "output_type": "stream",
     "text": [
      "NO\n"
     ]
    }
   ],
   "execution_count": 6
  },
  {
   "cell_type": "markdown",
   "source": [
    "**19 Високосный год**\n",
    "\n",
    "Напишите программу, которая определяет, является ли год с данным номером високосным. Если год является високосным, то выведите «YES», иначе выведите «NO».\n",
    "\n",
    "Год является високосным, если его номер кратен 4, но не кратен 100\n",
    "100, или если он кратен 400.\n",
    "\n",
    "На вход программе подаётся натуральное число."
   ],
   "metadata": {
    "id": "kWxKeZiS2rS-"
   }
  },
  {
   "cell_type": "code",
   "source": [
    "year = int(input(\"Enter year: \"))\n",
    "if (year % 4 == 0 and year % 100 != 0) or year % 400 == 0:\n",
    "    print(\"YES\")\n",
    "else:\n",
    "    print(\"NO\")"
   ],
   "metadata": {
    "id": "ge-O1kTs22fs",
    "ExecuteTime": {
     "end_time": "2024-12-23T05:15:31.069139Z",
     "start_time": "2024-12-23T05:15:28.631033Z"
    }
   },
   "outputs": [
    {
     "name": "stdout",
     "output_type": "stream",
     "text": [
      "YES\n"
     ]
    }
   ],
   "execution_count": 8
  },
  {
   "cell_type": "markdown",
   "source": [
    "**20 Серединное число**\n",
    "\n",
    "Даны три **различных** целых числа. Напишите программу, которая находит серединное значение из этих чисел.\n",
    "\n",
    "На вход программе подаются три **различных** целых числа, каждое на отдельной строке. Программа должна вывести серединное значение из набора трёх чисел. **Серединное значение** набора чисел — число, которое находится в середине этого набора, если его упорядочить по возрастанию.\n",
    "\n",
    "\n",
    "\n"
   ],
   "metadata": {
    "id": "18H1b2jC3N19"
   }
  },
  {
   "cell_type": "code",
   "source": [
    "first = int(input(\"Enter first number: \"))\n",
    "second = int(input(\"Enter second number: \"))\n",
    "third = int(input(\"Enter third number: \"))\n",
    "print(first + second + third - max(first, second, third) - min(first, second, third))"
   ],
   "metadata": {
    "id": "Zb5FMRqe3cBt",
    "ExecuteTime": {
     "end_time": "2024-12-23T05:17:02.937437Z",
     "start_time": "2024-12-23T05:16:55.987709Z"
    }
   },
   "outputs": [
    {
     "name": "stdout",
     "output_type": "stream",
     "text": [
      "20\n"
     ]
    }
   ],
   "execution_count": 9
  },
  {
   "cell_type": "markdown",
   "source": [
    "**21 Самописный калькулятор**\n",
    "\n",
    "Напишите программу, которая считывает с клавиатуры два целых числа и строку. Если эта строка является обозначением одной из четырёх математических операций (+, -, *, /), то выведите результат применения этой операции к введённым ранее числам, в противном случае выведите «Неверная операция» (без кавычек). Если пользователь захочет поделить на ноль, выведите текст «На ноль делить нельзя!» (без кавычек).\n",
    "\n",
    "\n",
    "**Формат входных данных**:\n",
    "На вход программе подаются два целых числа и строка, все на отдельной строке."
   ],
   "metadata": {
    "id": "kg2DmVo6sBDi"
   }
  },
  {
   "cell_type": "code",
   "source": [
    "first = int(input(\"Enter first number: \"))\n",
    "second = int(input(\"Enter second number: \"))\n",
    "operation = input(\"Enter operation: \")\n",
    "if operation == \"+\":\n",
    "    print(first + second)\n",
    "elif operation == \"-\":\n",
    "    print(first - second)\n",
    "elif operation == \"*\":\n",
    "    print(first * second)\n",
    "elif operation == \"/\":\n",
    "    if second == 0:\n",
    "        print(\"Cannot divide by zero\")\n",
    "    else:\n",
    "        print(first / second)\n",
    "else:\n",
    "    print(\"Invalid operation\")"
   ],
   "metadata": {
    "id": "wLyR-S9BsBDi",
    "ExecuteTime": {
     "end_time": "2024-12-23T05:18:36.687902Z",
     "start_time": "2024-12-23T05:18:30.633424Z"
    }
   },
   "outputs": [
    {
     "name": "stdout",
     "output_type": "stream",
     "text": [
      "Cannot divide by zero\n"
     ]
    }
   ],
   "execution_count": 11
  }
 ]
}
