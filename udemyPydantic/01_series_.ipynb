{
 "cells": [
  {
   "cell_type": "code",
   "id": "initial_id",
   "metadata": {
    "collapsed": true,
    "ExecuteTime": {
     "end_time": "2025-02-17T04:54:47.775233Z",
     "start_time": "2025-02-17T04:54:47.292248Z"
    }
   },
   "source": "import pandas as pd",
   "outputs": [],
   "execution_count": 1
  },
  {
   "metadata": {
    "ExecuteTime": {
     "end_time": "2025-02-17T04:54:57.920095Z",
     "start_time": "2025-02-17T04:54:57.915593Z"
    }
   },
   "cell_type": "code",
   "source": "numbers = [1, 2, 3, 4, 5]",
   "id": "943cf936b6b276d0",
   "outputs": [],
   "execution_count": 2
  },
  {
   "metadata": {
    "ExecuteTime": {
     "end_time": "2025-02-17T04:55:25.447139Z",
     "start_time": "2025-02-17T04:55:25.428802Z"
    }
   },
   "cell_type": "code",
   "source": "pd.Series(numbers)",
   "id": "2d5e2d6817887e74",
   "outputs": [
    {
     "data": {
      "text/plain": [
       "0    1\n",
       "1    2\n",
       "2    3\n",
       "3    4\n",
       "4    5\n",
       "dtype: int64"
      ]
     },
     "execution_count": 3,
     "metadata": {},
     "output_type": "execute_result"
    }
   ],
   "execution_count": 3
  },
  {
   "metadata": {
    "ExecuteTime": {
     "end_time": "2025-02-17T04:55:51.190911Z",
     "start_time": "2025-02-17T04:55:51.184007Z"
    }
   },
   "cell_type": "code",
   "source": "letters = ['a', 'b', 'c', 'd', 'e']",
   "id": "54cd1f8c4de09167",
   "outputs": [],
   "execution_count": 4
  },
  {
   "metadata": {
    "ExecuteTime": {
     "end_time": "2025-02-17T04:56:08.765950Z",
     "start_time": "2025-02-17T04:56:08.754829Z"
    }
   },
   "cell_type": "code",
   "source": "pd.Series(data=letters, index=numbers)",
   "id": "6ea592f10873009d",
   "outputs": [
    {
     "data": {
      "text/plain": [
       "1    a\n",
       "2    b\n",
       "3    c\n",
       "4    d\n",
       "5    e\n",
       "dtype: object"
      ]
     },
     "execution_count": 5,
     "metadata": {},
     "output_type": "execute_result"
    }
   ],
   "execution_count": 5
  },
  {
   "metadata": {
    "ExecuteTime": {
     "end_time": "2025-02-17T04:57:47.880275Z",
     "start_time": "2025-02-17T04:57:47.870470Z"
    }
   },
   "cell_type": "code",
   "source": "pd.Series(data=letters, index=['letter1', 'letter2', 'letter3', 'letter4', 'letter5'])",
   "id": "b004d511c8dcfbe0",
   "outputs": [
    {
     "data": {
      "text/plain": [
       "letter1    a\n",
       "letter2    b\n",
       "letter3    c\n",
       "letter4    d\n",
       "letter5    e\n",
       "dtype: object"
      ]
     },
     "execution_count": 6,
     "metadata": {},
     "output_type": "execute_result"
    }
   ],
   "execution_count": 6
  },
  {
   "metadata": {
    "ExecuteTime": {
     "end_time": "2025-02-17T04:58:43.680705Z",
     "start_time": "2025-02-17T04:58:43.675795Z"
    }
   },
   "cell_type": "code",
   "source": [
    "data = {\n",
    "    'name': 'Shaxzodbek',\n",
    "    'age': 19,\n",
    "    'job': 'student'\n",
    "}"
   ],
   "id": "e719872e26302f5b",
   "outputs": [],
   "execution_count": 7
  },
  {
   "metadata": {
    "ExecuteTime": {
     "end_time": "2025-02-17T04:58:45.519429Z",
     "start_time": "2025-02-17T04:58:45.513846Z"
    }
   },
   "cell_type": "code",
   "source": "pd.Series(data)",
   "id": "639eb1e5f727be41",
   "outputs": [
    {
     "data": {
      "text/plain": [
       "name    Shaxzodbek\n",
       "age             19\n",
       "job        student\n",
       "dtype: object"
      ]
     },
     "execution_count": 8,
     "metadata": {},
     "output_type": "execute_result"
    }
   ],
   "execution_count": 8
  },
  {
   "metadata": {
    "ExecuteTime": {
     "end_time": "2025-02-17T05:02:02.745565Z",
     "start_time": "2025-02-17T05:02:02.733885Z"
    }
   },
   "cell_type": "code",
   "source": "pd.Series(data, index=['name', 'age', 'job'])",
   "id": "4406b8d0a3056848",
   "outputs": [
    {
     "data": {
      "text/plain": [
       "name    Shaxzodbek\n",
       "age             19\n",
       "job        student\n",
       "dtype: object"
      ]
     },
     "execution_count": 9,
     "metadata": {},
     "output_type": "execute_result"
    }
   ],
   "execution_count": 9
  }
 ],
 "metadata": {
  "kernelspec": {
   "display_name": "Python 3",
   "language": "python",
   "name": "python3"
  },
  "language_info": {
   "codemirror_mode": {
    "name": "ipython",
    "version": 2
   },
   "file_extension": ".py",
   "mimetype": "text/x-python",
   "name": "python",
   "nbconvert_exporter": "python",
   "pygments_lexer": "ipython2",
   "version": "2.7.6"
  }
 },
 "nbformat": 4,
 "nbformat_minor": 5
}
