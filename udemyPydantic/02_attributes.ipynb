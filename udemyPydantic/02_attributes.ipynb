{
 "cells": [
  {
   "cell_type": "code",
   "id": "initial_id",
   "metadata": {
    "collapsed": true,
    "ExecuteTime": {
     "end_time": "2025-02-22T10:17:04.368298Z",
     "start_time": "2025-02-22T10:17:04.357502Z"
    }
   },
   "source": "import pandas as pd",
   "outputs": [],
   "execution_count": 331
  },
  {
   "metadata": {
    "ExecuteTime": {
     "end_time": "2025-02-22T10:17:04.374399Z",
     "start_time": "2025-02-22T10:17:04.372046Z"
    }
   },
   "cell_type": "code",
   "source": [
    "numbers = [1, 2, 3, 4, 5]\n",
    "letters = ['a', 'b', 'c', 'd', 'e']"
   ],
   "id": "9d85af104b64e68d",
   "outputs": [],
   "execution_count": 332
  },
  {
   "metadata": {
    "ExecuteTime": {
     "end_time": "2025-02-22T10:17:04.389309Z",
     "start_time": "2025-02-22T10:17:04.383114Z"
    }
   },
   "cell_type": "code",
   "source": [
    "number_series = pd.Series(numbers)\n",
    "number_series"
   ],
   "id": "25c3876197fc0c67",
   "outputs": [
    {
     "data": {
      "text/plain": [
       "0    1\n",
       "1    2\n",
       "2    3\n",
       "3    4\n",
       "4    5\n",
       "dtype: int64"
      ]
     },
     "execution_count": 333,
     "metadata": {},
     "output_type": "execute_result"
    }
   ],
   "execution_count": 333
  },
  {
   "metadata": {
    "ExecuteTime": {
     "end_time": "2025-02-22T10:17:04.415951Z",
     "start_time": "2025-02-22T10:17:04.413553Z"
    }
   },
   "cell_type": "code",
   "source": [
    "letters_series = pd.Series(data=letters)\n",
    "letters_series"
   ],
   "id": "7c2e42136b1a69fa",
   "outputs": [
    {
     "data": {
      "text/plain": [
       "0    a\n",
       "1    b\n",
       "2    c\n",
       "3    d\n",
       "4    e\n",
       "dtype: object"
      ]
     },
     "execution_count": 334,
     "metadata": {},
     "output_type": "execute_result"
    }
   ],
   "execution_count": 334
  },
  {
   "metadata": {
    "ExecuteTime": {
     "end_time": "2025-02-22T10:17:04.456947Z",
     "start_time": "2025-02-22T10:17:04.454179Z"
    }
   },
   "cell_type": "code",
   "source": [
    "print(f'number series data type: {number_series.dtype}')\n",
    "print(f'letters series data type: {letters_series.dtype}')"
   ],
   "id": "55cee671de41579b",
   "outputs": [
    {
     "name": "stdout",
     "output_type": "stream",
     "text": [
      "number series data type: int64\n",
      "letters series data type: object\n"
     ]
    }
   ],
   "execution_count": 335
  },
  {
   "metadata": {
    "ExecuteTime": {
     "end_time": "2025-02-22T10:17:04.542063Z",
     "start_time": "2025-02-22T10:17:04.540038Z"
    }
   },
   "cell_type": "code",
   "source": [
    "print(letters_series.values)\n",
    "print(number_series.index)"
   ],
   "id": "774a0950f041e7e5",
   "outputs": [
    {
     "name": "stdout",
     "output_type": "stream",
     "text": [
      "['a' 'b' 'c' 'd' 'e']\n",
      "RangeIndex(start=0, stop=5, step=1)\n"
     ]
    }
   ],
   "execution_count": 336
  },
  {
   "metadata": {
    "ExecuteTime": {
     "end_time": "2025-02-22T10:17:04.557722Z",
     "start_time": "2025-02-22T10:17:04.555687Z"
    }
   },
   "cell_type": "code",
   "source": "incomplete_series = pd.Series(data=['a', 'b', None], index=[1, 2, 3])",
   "id": "dd719aeb6296640d",
   "outputs": [],
   "execution_count": 337
  },
  {
   "metadata": {
    "ExecuteTime": {
     "end_time": "2025-02-22T10:17:04.594808Z",
     "start_time": "2025-02-22T10:17:04.592274Z"
    }
   },
   "cell_type": "code",
   "source": "incomplete_series.hasnans",
   "id": "f4523f338afbcc53",
   "outputs": [
    {
     "data": {
      "text/plain": [
       "True"
      ]
     },
     "execution_count": 338,
     "metadata": {},
     "output_type": "execute_result"
    }
   ],
   "execution_count": 338
  },
  {
   "metadata": {
    "ExecuteTime": {
     "end_time": "2025-02-22T10:17:04.611383Z",
     "start_time": "2025-02-22T10:17:04.608737Z"
    }
   },
   "cell_type": "code",
   "source": "number_series.shape",
   "id": "8446a9555535b97a",
   "outputs": [
    {
     "data": {
      "text/plain": [
       "(5,)"
      ]
     },
     "execution_count": 339,
     "metadata": {},
     "output_type": "execute_result"
    }
   ],
   "execution_count": 339
  },
  {
   "metadata": {
    "ExecuteTime": {
     "end_time": "2025-02-22T10:17:04.626675Z",
     "start_time": "2025-02-22T10:17:04.623844Z"
    }
   },
   "cell_type": "code",
   "source": "number_series.size",
   "id": "3d83d173b7207d87",
   "outputs": [
    {
     "data": {
      "text/plain": [
       "5"
      ]
     },
     "execution_count": 340,
     "metadata": {},
     "output_type": "execute_result"
    }
   ],
   "execution_count": 340
  }
 ],
 "metadata": {
  "kernelspec": {
   "display_name": "Python 3",
   "language": "python",
   "name": "python3"
  },
  "language_info": {
   "codemirror_mode": {
    "name": "ipython",
    "version": 2
   },
   "file_extension": ".py",
   "mimetype": "text/x-python",
   "name": "python",
   "nbconvert_exporter": "python",
   "pygments_lexer": "ipython2",
   "version": "2.7.6"
  }
 },
 "nbformat": 4,
 "nbformat_minor": 5
}
