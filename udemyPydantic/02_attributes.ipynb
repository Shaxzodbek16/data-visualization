{
 "cells": [
  {
   "cell_type": "code",
   "id": "initial_id",
   "metadata": {
    "collapsed": true,
    "ExecuteTime": {
     "end_time": "2025-02-17T05:34:47.598592Z",
     "start_time": "2025-02-17T05:34:47.317591Z"
    }
   },
   "source": "import pandas as pd",
   "outputs": [],
   "execution_count": 1
  },
  {
   "metadata": {
    "ExecuteTime": {
     "end_time": "2025-02-17T05:34:47.603313Z",
     "start_time": "2025-02-17T05:34:47.601702Z"
    }
   },
   "cell_type": "code",
   "source": [
    "numbers = [1, 2, 3, 4, 5]\n",
    "letters = ['a', 'b', 'c', 'd', 'e']"
   ],
   "id": "9d85af104b64e68d",
   "outputs": [],
   "execution_count": 2
  },
  {
   "metadata": {
    "ExecuteTime": {
     "end_time": "2025-02-17T05:34:47.667100Z",
     "start_time": "2025-02-17T05:34:47.662868Z"
    }
   },
   "cell_type": "code",
   "source": [
    "number_series = pd.Series(numbers)\n",
    "number_series"
   ],
   "id": "25c3876197fc0c67",
   "outputs": [
    {
     "data": {
      "text/plain": [
       "0    1\n",
       "1    2\n",
       "2    3\n",
       "3    4\n",
       "4    5\n",
       "dtype: int64"
      ]
     },
     "execution_count": 3,
     "metadata": {},
     "output_type": "execute_result"
    }
   ],
   "execution_count": 3
  },
  {
   "metadata": {
    "ExecuteTime": {
     "end_time": "2025-02-17T05:34:47.694330Z",
     "start_time": "2025-02-17T05:34:47.691395Z"
    }
   },
   "cell_type": "code",
   "source": [
    "letters_series = pd.Series(data=letters)\n",
    "letters_series"
   ],
   "id": "7c2e42136b1a69fa",
   "outputs": [
    {
     "data": {
      "text/plain": [
       "0    a\n",
       "1    b\n",
       "2    c\n",
       "3    d\n",
       "4    e\n",
       "dtype: object"
      ]
     },
     "execution_count": 4,
     "metadata": {},
     "output_type": "execute_result"
    }
   ],
   "execution_count": 4
  },
  {
   "metadata": {
    "ExecuteTime": {
     "end_time": "2025-02-17T05:34:47.734663Z",
     "start_time": "2025-02-17T05:34:47.732930Z"
    }
   },
   "cell_type": "code",
   "source": [
    "print(f'number series data type: {number_series.dtype}')\n",
    "print(f'letters series data type: {letters_series.dtype}')"
   ],
   "id": "55cee671de41579b",
   "outputs": [
    {
     "name": "stdout",
     "output_type": "stream",
     "text": [
      "number series data type: int64\n",
      "letters series data type: object\n"
     ]
    }
   ],
   "execution_count": 5
  },
  {
   "metadata": {
    "ExecuteTime": {
     "end_time": "2025-02-17T05:34:47.780470Z",
     "start_time": "2025-02-17T05:34:47.779164Z"
    }
   },
   "cell_type": "code",
   "source": "",
   "id": "774a0950f041e7e5",
   "outputs": [],
   "execution_count": null
  }
 ],
 "metadata": {
  "kernelspec": {
   "display_name": "Python 3",
   "language": "python",
   "name": "python3"
  },
  "language_info": {
   "codemirror_mode": {
    "name": "ipython",
    "version": 2
   },
   "file_extension": ".py",
   "mimetype": "text/x-python",
   "name": "python",
   "nbconvert_exporter": "python",
   "pygments_lexer": "ipython2",
   "version": "2.7.6"
  }
 },
 "nbformat": 4,
 "nbformat_minor": 5
}
